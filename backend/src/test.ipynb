{
 "cells": [
  {
   "cell_type": "code",
   "execution_count": 2,
   "id": "1be19847",
   "metadata": {},
   "outputs": [
    {
     "name": "stdout",
     "output_type": "stream",
     "text": [
      "AI21 request failed: 'dict' object has no attribute 'model_dump'\n"
     ]
    }
   ],
   "source": [
    "from ai21 import AI21Client\n",
    "\n",
    "# Replace this with your actual API key\n",
    "AI21_API_KEY = \"a81523b5-5df8-4e67-93d2-79b4654f1985\"\n",
    "\n",
    "def test_ai21_response():\n",
    "    try:\n",
    "        client = AI21Client(api_key=AI21_API_KEY)\n",
    "        response = client.chat.completions.create(\n",
    "            model=\"jamba-mini\",  # or \"jamba-mini\"\n",
    "            messages=[\n",
    "                {\"role\": \"user\", \"content\": \"What is the capital of France?\"}\n",
    "            ],\n",
    "            max_tokens=50\n",
    "        )\n",
    "        print(\"AI21 Response:\", response.choices[0].message.content)\n",
    "    except Exception as e:\n",
    "        print(\"AI21 request failed:\", str(e))\n",
    "\n",
    "# Run the test\n",
    "test_ai21_response()\n"
   ]
  },
  {
   "cell_type": "code",
   "execution_count": 5,
   "id": "1ef77d86",
   "metadata": {},
   "outputs": [
    {
     "name": "stdout",
     "output_type": "stream",
     "text": [
      "AI21 Response: I'm sorry to hear that. Could you please provide more details about the issue you're experiencing? Are you receiving an error message, or is the process getting stuck at a certain point?\n"
     ]
    }
   ],
   "source": [
    "from ai21 import AI21Client\n",
    "from ai21.models.chat.chat_message import SystemMessage, UserMessage, AssistantMessage\n",
    "\n",
    "system = \"You're a support engineer in a SaaS company\"\n",
    "messages = [\n",
    "    SystemMessage(content=system, role=\"system\"),\n",
    "    UserMessage(content=\"Hello, I need help with a signup process.\", role=\"user\"),\n",
    "    AssistantMessage(\n",
    "        content=\"Hi Alice, I can help you with that. What seems to be the problem?\",\n",
    "        role=\"assistant\",\n",
    "    ),\n",
    "    UserMessage(\n",
    "        content=\"I am having trouble signing up for your product with my Google account.\",\n",
    "        role=\"user\",\n",
    "    ),\n",
    "]\n",
    "\n",
    "client = AI21Client(api_key=\"a81523b5-5df8-4e67-93d2-79b4654f1985\")\n",
    "try:\n",
    "    response = client.chat.completions.create(\n",
    "        messages=messages,\n",
    "        model=\"jamba-mini\",\n",
    "        max_tokens=100,\n",
    "        temperature=0.7,\n",
    "        top_p=1.0,\n",
    "        stop=[\"\\n\"],\n",
    "    )\n",
    "\n",
    "    print(\"AI21 Response:\", response.choices[0].message.content)\n",
    "except Exception as e:\n",
    "    print(\"AI21 request failed:\", str(e))\n",
    "    \n"
   ]
  },
  {
   "cell_type": "code",
   "execution_count": 10,
   "id": "c06e1ec2",
   "metadata": {},
   "outputs": [
    {
     "name": "stdout",
     "output_type": "stream",
     "text": [
      "id='chatcmpl-113df4bf-04c9-7b87-e82d-ff332e0e3e1d' choices=[ChatCompletionResponseChoice(index=0, message=AssistantMessage(role='assistant', content='```json\\n{\\n    \"title\": \"Find the Largest Number\",\\n    \"options\": [\\n        \"30\",\\n        \"50\",\\n        \"10\",\\n        \"20\"\\n    ],\\n    \"correct_answer_id\": 1,\\n    \"explanation\": \"The largest number among the options provided is 50. To find the largest number, simply compare all the numbers and select the one that is greater than all others.\"\\n}\\n```', tool_calls=None), logprobs=None, finish_reason='stop')] usage=UsageInfo(prompt_tokens=221, completion_tokens=113, total_tokens=334)\n",
      "AI21 Response: ```json\n",
      "{\n",
      "    \"title\": \"Find the Largest Number\",\n",
      "    \"options\": [\n",
      "        \"30\",\n",
      "        \"50\",\n",
      "        \"10\",\n",
      "        \"20\"\n",
      "    ],\n",
      "    \"correct_answer_id\": 1,\n",
      "    \"explanation\": \"The largest number among the options provided is 50. To find the largest number, simply compare all the numbers and select the one that is greater than all others.\"\n",
      "}\n",
      "```\n"
     ]
    }
   ],
   "source": [
    "system_prompt = \"\"\"You are an expert coding challenge creator. \n",
    "Your task is to generate a coding question with multiple choice answers.\n",
    "The question should be appropriate for the specified difficulty level.\n",
    "\n",
    "For easy questions: Focus on basic syntax, simple operations, or common programming concepts.\n",
    "For medium questions: Cover intermediate concepts like data structures, algorithms, or language features.\n",
    "For hard questions: Include advanced topics, design patterns, optimization techniques, or complex algorithms.\n",
    "\n",
    "Return the challenge in the following JSON structure:\n",
    "{\n",
    "    \"title\": \"The question title\",\n",
    "    \"options\": [\"Option 1\", \"Option 2\", \"Option 3\", \"Option 4\"],\n",
    "    \"correct_answer_id\": 0, // Index of the correct answer (0-3)\n",
    "    \"explanation\": \"Detailed explanation of why the correct answer is right\"\n",
    "}\n",
    "\n",
    "Make sure the options are plausible but with only one clearly correct answer.\n",
    "\"\"\"\n",
    "messages = [\n",
    "    SystemMessage(content=system_prompt, role=\"system\"),\n",
    "    UserMessage(\n",
    "        content=f\"Generate a easy difficulty coding challenge.\",\n",
    "        role=\"user\",\n",
    "    ),\n",
    "]\n",
    "\n",
    "\n",
    "\n",
    "\n",
    "client = AI21Client(api_key=\"a81523b5-5df8-4e67-93d2-79b4654f1985\")\n",
    "try:\n",
    "    response = client.chat.completions.create(\n",
    "        messages=messages,\n",
    "        model=\"jamba-large\",\n",
    "        max_tokens=300,\n",
    "        temperature=0.7,\n",
    "        top_p=1.0,\n",
    "    )\n",
    "    print(response)\n",
    "    print(\"AI21 Response:\", response.choices[0].message.content)\n",
    "except Exception as e:\n",
    "    print(\"AI21 request failed:\", str(e))\n",
    "    \n"
   ]
  },
  {
   "cell_type": "code",
   "execution_count": 16,
   "id": "bac5e415",
   "metadata": {},
   "outputs": [
    {
     "data": {
      "text/plain": [
       "{'title': 'Find the Largest Number',\n",
       " 'options': ['30', '50', '10', '20'],\n",
       " 'correct_answer_id': 1,\n",
       " 'explanation': 'The largest number among the options provided is 50. To find the largest number, simply compare all the numbers and select the one that is greater than all others.'}"
      ]
     },
     "execution_count": 16,
     "metadata": {},
     "output_type": "execute_result"
    }
   ],
   "source": [
    "import json\n",
    "import re\n",
    "\n",
    "content = \"\"\" ```json\n",
    "{\n",
    "    \"title\": \"Find the Largest Number\",\n",
    "    \"options\": [\n",
    "        \"30\",\n",
    "        \"50\",\n",
    "        \"10\",\n",
    "        \"20\"\n",
    "    ],\n",
    "    \"correct_answer_id\": 1,\n",
    "    \"explanation\": \"The largest number among the options provided is 50. To find the largest number, simply compare all the numbers and select the one that is greater than all others.\"\n",
    "}\n",
    "```\"\"\"\n",
    "\n",
    "clean_content = re.sub(\n",
    "    r\"^```json|```$\", \"\", content.strip(), flags=re.IGNORECASE\n",
    ").strip()\n",
    "\n",
    "# print(clean_content)\n",
    "json.loads(clean_content)"
   ]
  }
 ],
 "metadata": {
  "kernelspec": {
   "display_name": "venv9898",
   "language": "python",
   "name": "python3"
  },
  "language_info": {
   "codemirror_mode": {
    "name": "ipython",
    "version": 3
   },
   "file_extension": ".py",
   "mimetype": "text/x-python",
   "name": "python",
   "nbconvert_exporter": "python",
   "pygments_lexer": "ipython3",
   "version": "3.11.9"
  }
 },
 "nbformat": 4,
 "nbformat_minor": 5
}
